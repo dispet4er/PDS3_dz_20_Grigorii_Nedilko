{
 "cells": [
  {
   "cell_type": "markdown",
   "id": "9e7a5ff0",
   "metadata": {},
   "source": [
    "| year | rank | company | revenue | profit |\n",
    "|------|------|---------|---------|--------|\n",
    "| 1955 | 229 | Norton | 135.0 | N.A. |\n",
    "| 1955 | 291 | Schlitz Brewing | 100.0 | N.A. |\n",
    "| 1955 | 295 | Pacific Vegetable Oil | 97.9 | N.A. |\n",
    "| 1955 | 297 | Liebmann Breweries | 90.0 | N.A. |\n",
    "| 1955 | 353 | Minneapolis-Moline | 77.4 | N.A. |"
   ]
  },
  {
   "cell_type": "code",
   "execution_count": 1,
   "id": "0416cf0e",
   "metadata": {},
   "outputs": [
    {
     "name": "stdout",
     "output_type": "stream",
     "text": [
      "26.2 ms ± 798 µs per loop (mean ± std. dev. of 7 runs, 10 loops each)\n"
     ]
    }
   ],
   "source": [
    "%%timeit\n",
    "import random\n",
    "import string\n",
    "import time\n",
    "\n",
    "int_list = {}\n",
    "for i in range(5000):\n",
    "    int_list[i] = random.randint(0, 1000)\n",
    "\n",
    "float_list = {}\n",
    "for i in range(5000):\n",
    "    float_list[i] = round(random.uniform(0.1, 100.0), 2)\n",
    "\n",
    "str_list = {}\n",
    "for i in range(5000):\n",
    "    str_list[i] = ''.join(random.choice(string.ascii_lowercase) for _ in range(5))\n",
    "\n",
    "\n",
    "\n",
    "def sort_int_list(int_list):\n",
    "    sorted_list = sorted(int_list.items(), key=lambda x: x[1])\n",
    "    return dict(sorted_list)"
   ]
  },
  {
   "cell_type": "code",
   "execution_count": null,
   "id": "599c8f35",
   "metadata": {},
   "outputs": [],
   "source": []
  }
 ],
 "metadata": {
  "kernelspec": {
   "display_name": "Python 3 (ipykernel)",
   "language": "python",
   "name": "python3"
  },
  "language_info": {
   "codemirror_mode": {
    "name": "ipython",
    "version": 3
   },
   "file_extension": ".py",
   "mimetype": "text/x-python",
   "name": "python",
   "nbconvert_exporter": "python",
   "pygments_lexer": "ipython3",
   "version": "3.10.8"
  }
 },
 "nbformat": 4,
 "nbformat_minor": 5
}
